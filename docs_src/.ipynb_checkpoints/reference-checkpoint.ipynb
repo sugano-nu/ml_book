{
 "cells": [
  {
   "cell_type": "markdown",
   "metadata": {},
   "source": [
    "# 参考文献"
   ]
  },
  {
   "cell_type": "markdown",
   "metadata": {},
   "source": [
    "[1] Andrew Ng, “Machine Learning”, Coursera, https://www.coursera.org/learn/machine-learning."
   ]
  },
  {
   "cell_type": "markdown",
   "metadata": {},
   "source": [
    "[2] Andrew Ng, “CS229:Machine Learning Lecture notes”, Stanford University, https://see.stanford.edu/course/cs229."
   ]
  },
  {
   "cell_type": "markdown",
   "metadata": {},
   "source": [
    "[3] Zico Kolter, “Linear Algebra Review and Reference”, Stanford University, https://see.stanford.edu/materials/aimlcs229/cs229-linalg.pdf."
   ]
  },
  {
   "cell_type": "markdown",
   "metadata": {},
   "source": [
    "[4] David A. Harville, “統計のための行列代数 上”, 丸善出版, 2007."
   ]
  },
  {
   "cell_type": "markdown",
   "metadata": {},
   "source": [
    "[5] C. R. Rao, “統計的推測とその応用”, 東京図書, 1977."
   ]
  },
  {
   "cell_type": "markdown",
   "metadata": {},
   "source": [
    "[6] McKinney W., “Python によるデータ分析入門”, 第 2 版, O’Reilly Media, 2018."
   ]
  }
 ],
 "metadata": {
  "kernelspec": {
   "display_name": "Python 3",
   "language": "python",
   "name": "python3"
  },
  "language_info": {
   "codemirror_mode": {
    "name": "ipython",
    "version": 3
   },
   "file_extension": ".py",
   "mimetype": "text/x-python",
   "name": "python",
   "nbconvert_exporter": "python",
   "pygments_lexer": "ipython3",
   "version": "3.6.8"
  }
 },
 "nbformat": 4,
 "nbformat_minor": 2
}
